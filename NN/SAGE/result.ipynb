{
 "cells": [
  {
   "cell_type": "code",
   "execution_count": 1,
   "metadata": {},
   "outputs": [],
   "source": [
    "import pickle\n",
    "def scores(filepath):\n",
    "    results = pickle.load(open(filepath, 'rb'))\n",
    "    test_top2 = []\n",
    "    test_MCC = []\n",
    "    test_auc = []\n",
    "    for result in results:\n",
    "        for dic in result:\n",
    "            test_top2.extend(dic['test_top2'])\n",
    "            test_MCC.extend(dic['test_mcc'])\n",
    "            test_auc.extend(dic['test_auc'])\n",
    "    total = 0\n",
    "    for i in range(25):\n",
    "        total += test_top2[i]\n",
    "    print(f'Top 2 Acc: {total / 25}')\n",
    "    total = 0\n",
    "    for i in range(25):\n",
    "        total += test_auc[i]\n",
    "    print(f'Ave AUC: {total / 25}')\n",
    "    total = 0\n",
    "    for i in range(25):\n",
    "        total += test_MCC[i]\n",
    "    print(f'Ave MCC: {total / 25}')"
   ]
  },
  {
   "cell_type": "code",
   "execution_count": 4,
   "metadata": {},
   "outputs": [
    {
     "name": "stdout",
     "output_type": "stream",
     "text": [
      "Top 2 Acc: 0.7867647058823528\n",
      "Ave AUC: 0.8651082775610321\n",
      "Ave MCC: 0.4356320253057204\n"
     ]
    }
   ],
   "source": [
    "scores('./all_records.pkl')"
   ]
  },
  {
   "cell_type": "markdown",
   "metadata": {},
   "source": [
    "# base"
   ]
  },
  {
   "cell_type": "code",
   "execution_count": 2,
   "metadata": {},
   "outputs": [
    {
     "name": "stdout",
     "output_type": "stream",
     "text": [
      "Top 2 Acc: 0.6464705882352942\n",
      "Ave AUC: 0.7665758450428735\n",
      "Ave MCC: 0.3366092229639018\n"
     ]
    }
   ],
   "source": [
    "scores('./all_records_base.pkl')"
   ]
  },
  {
   "cell_type": "code",
   "execution_count": 2,
   "metadata": {},
   "outputs": [
    {
     "name": "stdout",
     "output_type": "stream",
     "text": [
      "Top 2 Acc: 0.5732352941176471\n",
      "Ave AUC: 0.7338746426205867\n",
      "Ave MCC: 0.20654820701629897\n"
     ]
    }
   ],
   "source": [
    "# cdk\n",
    "scores('./all_records_cdk.pkl')"
   ]
  },
  {
   "cell_type": "code",
   "execution_count": 2,
   "metadata": {},
   "outputs": [
    {
     "name": "stdout",
     "output_type": "stream",
     "text": [
      "Top 2 Acc: 0.7867647058823529\n",
      "Ave AUC: 0.8639648555206649\n",
      "Ave MCC: 0.4462981619430115\n"
     ]
    }
   ],
   "source": [
    "scores('./all_records_time.pkl')"
   ]
  },
  {
   "cell_type": "code",
   "execution_count": null,
   "metadata": {},
   "outputs": [],
   "source": []
  }
 ],
 "metadata": {
  "interpreter": {
   "hash": "ae2bdcb5ffd42edc58b1d6fb8428ae1d2700e79a4fc0c0139ea5d98047639f54"
  },
  "kernelspec": {
   "display_name": "Python 3.8.11 ('pytorch')",
   "language": "python",
   "name": "python3"
  },
  "language_info": {
   "codemirror_mode": {
    "name": "ipython",
    "version": 3
   },
   "file_extension": ".py",
   "mimetype": "text/x-python",
   "name": "python",
   "nbconvert_exporter": "python",
   "pygments_lexer": "ipython3",
   "version": "3.8.11"
  },
  "orig_nbformat": 4
 },
 "nbformat": 4,
 "nbformat_minor": 2
}
