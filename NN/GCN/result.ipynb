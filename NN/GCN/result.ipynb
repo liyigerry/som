{
 "cells": [
  {
   "cell_type": "code",
   "execution_count": 1,
   "metadata": {},
   "outputs": [],
   "source": [
    "import pickle"
   ]
  },
  {
   "cell_type": "code",
   "execution_count": 4,
   "metadata": {},
   "outputs": [],
   "source": [
    "filepath = './all_records.pkl'"
   ]
  },
  {
   "cell_type": "code",
   "execution_count": 5,
   "metadata": {},
   "outputs": [],
   "source": [
    "results = pickle.load(open(filepath, 'rb'))"
   ]
  },
  {
   "cell_type": "code",
   "execution_count": 17,
   "metadata": {},
   "outputs": [
    {
     "name": "stdout",
     "output_type": "stream",
     "text": [
      "[0.7426470588235294]\n",
      "[0.7058823529411765]\n",
      "[0.7352941176470589]\n",
      "[0.7647058823529411]\n",
      "[0.7573529411764706]\n",
      "[0.6691176470588235]\n",
      "[0.7058823529411765]\n",
      "[0.7279411764705882]\n",
      "[0.7573529411764706]\n",
      "[0.7352941176470589]\n",
      "[0.7058823529411765]\n",
      "[0.7426470588235294]\n",
      "[0.6617647058823529]\n",
      "[0.6838235294117647]\n",
      "[0.7279411764705882]\n",
      "[0.7867647058823529]\n",
      "[0.75]\n",
      "[0.7132352941176471]\n",
      "[0.7647058823529411]\n",
      "[0.7058823529411765]\n",
      "[0.7279411764705882]\n",
      "[0.7279411764705882]\n",
      "[0.7573529411764706]\n",
      "[0.7279411764705882]\n",
      "[0.7279411764705882]\n"
     ]
    }
   ],
   "source": [
    "for result in results:\n",
    "    for dic in result:\n",
    "        print(dic['test_top2'])"
   ]
  },
  {
   "cell_type": "code",
   "execution_count": 14,
   "metadata": {},
   "outputs": [
    {
     "name": "stdout",
     "output_type": "stream",
     "text": [
      "0.7285294117647058\n"
     ]
    }
   ],
   "source": [
    "test_top2 = []\n",
    "test_MCC = []\n",
    "test_auc = []\n",
    "for result in results:\n",
    "    for dic in result:\n",
    "        test_top2.extend(dic['test_top2'])\n",
    "        test_MCC.extend(dic['test_mcc'])\n",
    "        test_auc.extend(dic['test_auc'])\n",
    "total = 0\n",
    "for i in range(25):\n",
    "    total += test_top2[i]\n",
    "print(total / 25)\n",
    "\n",
    "    # print(len(result))"
   ]
  },
  {
   "cell_type": "code",
   "execution_count": 15,
   "metadata": {},
   "outputs": [
    {
     "name": "stdout",
     "output_type": "stream",
     "text": [
      "0.8126919360125184\n"
     ]
    }
   ],
   "source": [
    "total = 0\n",
    "for i in range(25):\n",
    "    total += test_auc[i]\n",
    "print(total / 25)"
   ]
  },
  {
   "cell_type": "code",
   "execution_count": 16,
   "metadata": {},
   "outputs": [
    {
     "name": "stdout",
     "output_type": "stream",
     "text": [
      "0.4098459855875506\n"
     ]
    }
   ],
   "source": [
    "total = 0\n",
    "for i in range(25):\n",
    "    total += test_MCC[i]\n",
    "print(total / 25)"
   ]
  },
  {
   "cell_type": "markdown",
   "metadata": {},
   "source": [
    "# 第二次5次5折折交叉验证，结果"
   ]
  },
  {
   "cell_type": "code",
   "execution_count": 5,
   "metadata": {},
   "outputs": [],
   "source": [
    "import pickle\n",
    "filepath = './all_records42.pkl'"
   ]
  },
  {
   "cell_type": "code",
   "execution_count": 6,
   "metadata": {},
   "outputs": [
    {
     "name": "stdout",
     "output_type": "stream",
     "text": [
      "[0.7205882352941176]\n",
      "[0.7647058823529411]\n",
      "[0.7867647058823529]\n",
      "[0.7647058823529411]\n",
      "[0.6470588235294118]\n",
      "[0.7573529411764706]\n",
      "[0.7573529411764706]\n",
      "[0.7279411764705882]\n",
      "[0.7573529411764706]\n",
      "[0.75]\n",
      "[0.7941176470588235]\n",
      "[0.7647058823529411]\n",
      "[0.7573529411764706]\n",
      "[0.7426470588235294]\n",
      "[0.7573529411764706]\n",
      "[0.7352941176470589]\n",
      "[0.7058823529411765]\n",
      "[0.7426470588235294]\n",
      "[0.7426470588235294]\n",
      "[0.7426470588235294]\n",
      "[0.7794117647058824]\n",
      "[0.7647058823529411]\n",
      "[0.6911764705882353]\n",
      "[0.6838235294117647]\n",
      "[0.7794117647058824]\n"
     ]
    }
   ],
   "source": [
    "results = pickle.load(open(filepath, 'rb'))\n",
    "for result in results:\n",
    "    for dic in result:\n",
    "        print(dic['test_top2'])"
   ]
  },
  {
   "cell_type": "code",
   "execution_count": 7,
   "metadata": {},
   "outputs": [
    {
     "name": "stdout",
     "output_type": "stream",
     "text": [
      "Top 2 Acc: 0.7447058823529411\n"
     ]
    }
   ],
   "source": [
    "test_top2 = []\n",
    "test_MCC = []\n",
    "test_auc = []\n",
    "for result in results:\n",
    "    for dic in result:\n",
    "        test_top2.extend(dic['test_top2'])\n",
    "        test_MCC.extend(dic['test_mcc'])\n",
    "        test_auc.extend(dic['test_auc'])\n",
    "total = 0\n",
    "for i in range(25):\n",
    "    total += test_top2[i]\n",
    "print(f'Top 2 Acc: {total / 25}')\n"
   ]
  },
  {
   "cell_type": "code",
   "execution_count": 8,
   "metadata": {},
   "outputs": [
    {
     "name": "stdout",
     "output_type": "stream",
     "text": [
      "Ave AUC: 0.8306987238451697\n"
     ]
    }
   ],
   "source": [
    "total = 0\n",
    "for i in range(25):\n",
    "    total += test_auc[i]\n",
    "print(f'Ave AUC: {total / 25}')"
   ]
  },
  {
   "cell_type": "code",
   "execution_count": 9,
   "metadata": {},
   "outputs": [
    {
     "name": "stdout",
     "output_type": "stream",
     "text": [
      "Ave MCC: 0.4113970238100277\n"
     ]
    }
   ],
   "source": [
    "total = 0\n",
    "for i in range(25):\n",
    "    total += test_MCC[i]\n",
    "print(f'Ave MCC: {total / 25}')"
   ]
  },
  {
   "cell_type": "code",
   "execution_count": 1,
   "metadata": {},
   "outputs": [],
   "source": [
    "import pickle\n",
    "def scores(filepath):\n",
    "    results = pickle.load(open(filepath, 'rb'))\n",
    "    test_top2 = []\n",
    "    test_MCC = []\n",
    "    test_auc = []\n",
    "    for result in results:\n",
    "        for dic in result:\n",
    "            test_top2.extend(dic['test_top2'])\n",
    "            test_MCC.extend(dic['test_mcc'])\n",
    "            test_auc.extend(dic['test_auc'])\n",
    "    total = 0\n",
    "    for i in range(25):\n",
    "        total += test_top2[i]\n",
    "    print(f'Top 2 Acc: {total / 25}')\n",
    "    total = 0\n",
    "    for i in range(25):\n",
    "        total += test_auc[i]\n",
    "    print(f'Ave AUC: {total / 25}')\n",
    "    total = 0\n",
    "    for i in range(25):\n",
    "        total += test_MCC[i]\n",
    "    print(f'Ave MCC: {total / 25}')"
   ]
  },
  {
   "cell_type": "code",
   "execution_count": 11,
   "metadata": {},
   "outputs": [
    {
     "name": "stdout",
     "output_type": "stream",
     "text": [
      "Top 2 Acc: 0.7447058823529411\n",
      "Ave AUC: 0.8306987238451697\n",
      "Ave MCC: 0.4113970238100277\n"
     ]
    }
   ],
   "source": [
    "scores('./all_records42.pkl')"
   ]
  },
  {
   "cell_type": "markdown",
   "metadata": {},
   "source": [
    "# base"
   ]
  },
  {
   "cell_type": "code",
   "execution_count": 5,
   "metadata": {},
   "outputs": [
    {
     "name": "stdout",
     "output_type": "stream",
     "text": [
      "Top 2 Acc: 0.6655882352941176\n",
      "Ave AUC: 0.755920787473171\n",
      "Ave MCC: 0.3288629817006521\n"
     ]
    }
   ],
   "source": [
    "scores('./all_records_base.pkl')"
   ]
  },
  {
   "cell_type": "code",
   "execution_count": 2,
   "metadata": {},
   "outputs": [
    {
     "name": "stdout",
     "output_type": "stream",
     "text": [
      "Top 2 Acc: 0.5229411764705882\n",
      "Ave AUC: 0.7259997610483687\n",
      "Ave MCC: 0.2154476540056957\n"
     ]
    }
   ],
   "source": [
    "# cdk\n",
    "scores('./all_records_cdk.pkl')"
   ]
  },
  {
   "cell_type": "code",
   "execution_count": 2,
   "metadata": {},
   "outputs": [
    {
     "name": "stdout",
     "output_type": "stream",
     "text": [
      "Top 2 Acc: 0.7444117647058823\n",
      "Ave AUC: 0.8325071631723074\n",
      "Ave MCC: 0.41093830720391694\n"
     ]
    }
   ],
   "source": [
    "scores('./all_records_time.pkl')"
   ]
  },
  {
   "cell_type": "code",
   "execution_count": null,
   "metadata": {},
   "outputs": [],
   "source": []
  }
 ],
 "metadata": {
  "interpreter": {
   "hash": "ae2bdcb5ffd42edc58b1d6fb8428ae1d2700e79a4fc0c0139ea5d98047639f54"
  },
  "kernelspec": {
   "display_name": "Python 3.8.11 ('pytorch')",
   "language": "python",
   "name": "python3"
  },
  "language_info": {
   "codemirror_mode": {
    "name": "ipython",
    "version": 3
   },
   "file_extension": ".py",
   "mimetype": "text/x-python",
   "name": "python",
   "nbconvert_exporter": "python",
   "pygments_lexer": "ipython3",
   "version": "3.8.11"
  },
  "orig_nbformat": 4
 },
 "nbformat": 4,
 "nbformat_minor": 2
}
