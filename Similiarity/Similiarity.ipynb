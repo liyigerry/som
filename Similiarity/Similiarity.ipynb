{
 "cells": [
  {
   "cell_type": "code",
   "execution_count": 4,
   "metadata": {},
   "outputs": [
    {
     "name": "stderr",
     "output_type": "stream",
     "text": [
      "RDKit WARNING: [17:10:58] Enabling RDKit 2019.09.3 jupyter extensions\n",
      "[17:10:58] Enabling RDKit 2019.09.3 jupyter extensions\n"
     ]
    }
   ],
   "source": [
    "from rdkit import Chem\n",
    "from rdkit import DataStructs\n",
    "import pickle\n",
    "import os"
   ]
  },
  {
   "cell_type": "markdown",
   "metadata": {},
   "source": [
    "# 1A2"
   ]
  },
  {
   "cell_type": "code",
   "execution_count": 5,
   "metadata": {},
   "outputs": [],
   "source": [
    "filenames = os.listdir('../dataset/1A2')"
   ]
  },
  {
   "cell_type": "code",
   "execution_count": 6,
   "metadata": {},
   "outputs": [],
   "source": [
    "mols = [Chem.SDMolSupplier('../dataset/1A2' + '/' + filename)[0] for filename in filenames]"
   ]
  },
  {
   "cell_type": "code",
   "execution_count": 7,
   "metadata": {},
   "outputs": [],
   "source": [
    "names = [mol.GetProp('ID') for mol in mols]"
   ]
  },
  {
   "cell_type": "code",
   "execution_count": 9,
   "metadata": {},
   "outputs": [],
   "source": [
    "fps = [Chem.RDKFingerprint(mol) for mol in mols]"
   ]
  },
  {
   "cell_type": "code",
   "execution_count": 10,
   "metadata": {},
   "outputs": [],
   "source": [
    "similiarity_1A2 = []\n",
    "for i in range(len(fps)):\n",
    "    temp = []\n",
    "    for j in range(i + 1):\n",
    "        temp.append(DataStructs.FingerprintSimilarity(fps[i], fps[j]))\n",
    "    similiarity_1A2.append(temp)"
   ]
  },
  {
   "cell_type": "code",
   "execution_count": 11,
   "metadata": {},
   "outputs": [],
   "source": [
    "pickle.dump(similiarity_1A2, open('./similiarity_1A2.pkl', 'wb'))"
   ]
  },
  {
   "cell_type": "markdown",
   "metadata": {},
   "source": [
    "# 2A6"
   ]
  },
  {
   "cell_type": "code",
   "execution_count": 12,
   "metadata": {},
   "outputs": [],
   "source": [
    "filenames = os.listdir('../dataset/2A6')\n",
    "mols = [Chem.SDMolSupplier('../dataset/2A6' + '/' + filename)[0] for filename in filenames]\n",
    "fps = [Chem.RDKFingerprint(mol) for mol in mols]\n",
    "similiarity_2A6 = []\n",
    "for i in range(len(fps)):\n",
    "    temp = []\n",
    "    for j in range(i + 1):\n",
    "        temp.append(DataStructs.FingerprintSimilarity(fps[i], fps[j]))\n",
    "    similiarity_2A6.append(temp)\n",
    "pickle.dump(similiarity_2A6, open('./similiarity_2A6.pkl', 'wb'))"
   ]
  },
  {
   "cell_type": "markdown",
   "metadata": {},
   "source": [
    "# 2B6"
   ]
  },
  {
   "cell_type": "code",
   "execution_count": 13,
   "metadata": {},
   "outputs": [],
   "source": [
    "filenames = os.listdir('../dataset/2B6')\n",
    "mols = [Chem.SDMolSupplier('../dataset/2B6' + '/' + filename)[0] for filename in filenames]\n",
    "fps = [Chem.RDKFingerprint(mol) for mol in mols]\n",
    "similiarity_2B6 = []\n",
    "for i in range(len(fps)):\n",
    "    temp = []\n",
    "    for j in range(i + 1):\n",
    "        temp.append(DataStructs.FingerprintSimilarity(fps[i], fps[j]))\n",
    "    similiarity_2B6.append(temp)\n",
    "pickle.dump(similiarity_2B6, open('./similiarity_2B6.pkl', 'wb'))"
   ]
  },
  {
   "cell_type": "markdown",
   "metadata": {},
   "source": [
    "# 2C8"
   ]
  },
  {
   "cell_type": "code",
   "execution_count": 14,
   "metadata": {},
   "outputs": [],
   "source": [
    "filenames = os.listdir('../dataset/2C8')\n",
    "mols = [Chem.SDMolSupplier('../dataset/2C8' + '/' + filename)[0] for filename in filenames]\n",
    "fps = [Chem.RDKFingerprint(mol) for mol in mols]\n",
    "similiarity_2C8 = []\n",
    "for i in range(len(fps)):\n",
    "    temp = []\n",
    "    for j in range(i + 1):\n",
    "        temp.append(DataStructs.FingerprintSimilarity(fps[i], fps[j]))\n",
    "    similiarity_2C8.append(temp)\n",
    "pickle.dump(similiarity_2C8, open('./similiarity_2C8.pkl', 'wb'))"
   ]
  },
  {
   "cell_type": "markdown",
   "metadata": {},
   "source": [
    "# 2C9"
   ]
  },
  {
   "cell_type": "code",
   "execution_count": 15,
   "metadata": {},
   "outputs": [],
   "source": [
    "filenames = os.listdir('../dataset/2C9')\n",
    "mols = [Chem.SDMolSupplier('../dataset/2C9' + '/' + filename)[0] for filename in filenames]\n",
    "fps = [Chem.RDKFingerprint(mol) for mol in mols]\n",
    "similiarity_2C9 = []\n",
    "for i in range(len(fps)):\n",
    "    temp = []\n",
    "    for j in range(i + 1):\n",
    "        temp.append(DataStructs.FingerprintSimilarity(fps[i], fps[j]))\n",
    "    similiarity_2C9.append(temp)\n",
    "pickle.dump(similiarity_2C9, open('./similiarity_2C9.pkl', 'wb'))"
   ]
  },
  {
   "cell_type": "markdown",
   "metadata": {},
   "source": [
    "# 2C19"
   ]
  },
  {
   "cell_type": "code",
   "execution_count": 16,
   "metadata": {},
   "outputs": [],
   "source": [
    "filenames = os.listdir('../dataset/2C19')\n",
    "mols = [Chem.SDMolSupplier('../dataset/2C19' + '/' + filename)[0] for filename in filenames]\n",
    "fps = [Chem.RDKFingerprint(mol) for mol in mols]\n",
    "similiarity_2C19 = []\n",
    "for i in range(len(fps)):\n",
    "    temp = []\n",
    "    for j in range(i + 1):\n",
    "        temp.append(DataStructs.FingerprintSimilarity(fps[i], fps[j]))\n",
    "    similiarity_2C19.append(temp)\n",
    "pickle.dump(similiarity_2C19, open('./similiarity_2C19.pkl', 'wb'))"
   ]
  },
  {
   "cell_type": "markdown",
   "metadata": {},
   "source": [
    "# 2D6"
   ]
  },
  {
   "cell_type": "code",
   "execution_count": 17,
   "metadata": {},
   "outputs": [],
   "source": [
    "filenames = os.listdir('../dataset/2D6')\n",
    "mols = [Chem.SDMolSupplier('../dataset/2D6' + '/' + filename)[0] for filename in filenames]\n",
    "fps = [Chem.RDKFingerprint(mol) for mol in mols]\n",
    "similiarity_2D6 = []\n",
    "for i in range(len(fps)):\n",
    "    temp = []\n",
    "    for j in range(i + 1):\n",
    "        temp.append(DataStructs.FingerprintSimilarity(fps[i], fps[j]))\n",
    "    similiarity_2D6.append(temp)\n",
    "pickle.dump(similiarity_2D6, open('./similiarity_2D6.pkl', 'wb'))"
   ]
  },
  {
   "cell_type": "markdown",
   "metadata": {},
   "source": [
    "# 2E1"
   ]
  },
  {
   "cell_type": "code",
   "execution_count": 18,
   "metadata": {},
   "outputs": [],
   "source": [
    "filenames = os.listdir('../dataset/2E1')\n",
    "mols = [Chem.SDMolSupplier('../dataset/2E1' + '/' + filename)[0] for filename in filenames]\n",
    "fps = [Chem.RDKFingerprint(mol) for mol in mols]\n",
    "similiarity_2E1 = []\n",
    "for i in range(len(fps)):\n",
    "    temp = []\n",
    "    for j in range(i + 1):\n",
    "        temp.append(DataStructs.FingerprintSimilarity(fps[i], fps[j]))\n",
    "    similiarity_2E1.append(temp)\n",
    "pickle.dump(similiarity_2E1, open('./similiarity_2E1.pkl', 'wb'))"
   ]
  },
  {
   "cell_type": "markdown",
   "metadata": {},
   "source": [
    "# 3A4"
   ]
  },
  {
   "cell_type": "code",
   "execution_count": 19,
   "metadata": {},
   "outputs": [],
   "source": [
    "filenames = os.listdir('../dataset/3A4')\n",
    "mols = [Chem.SDMolSupplier('../dataset/3A4' + '/' + filename)[0] for filename in filenames]\n",
    "fps = [Chem.RDKFingerprint(mol) for mol in mols]\n",
    "similiarity_3A4 = []\n",
    "for i in range(len(fps)):\n",
    "    temp = []\n",
    "    for j in range(i + 1):\n",
    "        temp.append(DataStructs.FingerprintSimilarity(fps[i], fps[j]))\n",
    "    similiarity_3A4.append(temp)\n",
    "pickle.dump(similiarity_3A4, open('./similiarity_3A4.pkl', 'wb'))"
   ]
  },
  {
   "cell_type": "markdown",
   "metadata": {},
   "source": [
    "# merged"
   ]
  },
  {
   "cell_type": "code",
   "execution_count": 20,
   "metadata": {},
   "outputs": [],
   "source": [
    "filenames = os.listdir('../dataset/merged')\n",
    "mols = [Chem.SDMolSupplier('../dataset/merged' + '/' + filename)[0] for filename in filenames]\n",
    "fps = [Chem.RDKFingerprint(mol) for mol in mols]\n",
    "similiarity_merged = []\n",
    "for i in range(len(fps)):\n",
    "    temp = []\n",
    "    for j in range(i + 1):\n",
    "        temp.append(DataStructs.FingerprintSimilarity(fps[i], fps[j]))\n",
    "    similiarity_merged.append(temp)\n",
    "pickle.dump(similiarity_merged, open('./similiarity_merged.pkl', 'wb'))"
   ]
  },
  {
   "cell_type": "code",
   "execution_count": null,
   "metadata": {},
   "outputs": [],
   "source": []
  }
 ],
 "metadata": {
  "interpreter": {
   "hash": "ae2bdcb5ffd42edc58b1d6fb8428ae1d2700e79a4fc0c0139ea5d98047639f54"
  },
  "kernelspec": {
   "display_name": "Python 3.8.11 ('pytorch')",
   "language": "python",
   "name": "python3"
  },
  "language_info": {
   "codemirror_mode": {
    "name": "ipython",
    "version": 3
   },
   "file_extension": ".py",
   "mimetype": "text/x-python",
   "name": "python",
   "nbconvert_exporter": "python",
   "pygments_lexer": "ipython3",
   "version": "3.8.11"
  },
  "orig_nbformat": 4
 },
 "nbformat": 4,
 "nbformat_minor": 2
}
