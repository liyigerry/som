{
 "cells": [
  {
   "cell_type": "code",
   "execution_count": 2,
   "metadata": {},
   "outputs": [],
   "source": [
    "from rdkit import Chem"
   ]
  },
  {
   "cell_type": "code",
   "execution_count": 3,
   "metadata": {},
   "outputs": [],
   "source": [
    "for_merge = ['PRIMARY_SOM_1A2', 'PRIMARY_SOM_2A6','PRIMARY_SOM_2B6','PRIMARY_SOM_2C8','PRIMARY_SOM_2C9','PRIMARY_SOM_2C19','PRIMARY_SOM_2D6','PRIMARY_SOM_2E1','PRIMARY_SOM_3A4',\n",
    "           'SECONDARY_SOM_1A2', 'SECONDARY_SOM_2A6','SECONDARY_SOM_2B6','SECONDARY_SOM_2C8','SECONDARY_SOM_2C9','SECONDARY_SOM_2C19','SECONDARY_SOM_2D6','SECONDARY_SOM_2E1','SECONDARY_SOM_3A4',\n",
    "           'TERTIARY_SOM_1A2', 'TERTIARY_SOM_2A6','TERTIARY_SOM_2B6','TERTIARY_SOM_2C8','TERTIARY_SOM_2C9','TERTIARY_SOM_2C19','TERTIARY_SOM_2D6','TERTIARY_SOM_2E1','TERTIARY_SOM_3A4'\n",
    "          ]"
   ]
  },
  {
   "cell_type": "code",
   "execution_count": 4,
   "metadata": {},
   "outputs": [],
   "source": [
    "other_keys = ['PRIMARY_SOM', 'SECONDARY_SOM', 'TERTIARY_SOM']"
   ]
  },
  {
   "cell_type": "code",
   "execution_count": 5,
   "metadata": {},
   "outputs": [],
   "source": [
    "base_path = r'./computed'"
   ]
  },
  {
   "cell_type": "code",
   "execution_count": 5,
   "metadata": {},
   "outputs": [],
   "source": [
    "import os"
   ]
  },
  {
   "cell_type": "markdown",
   "metadata": {},
   "source": [
    "# 1A2"
   ]
  },
  {
   "cell_type": "code",
   "execution_count": 6,
   "metadata": {},
   "outputs": [],
   "source": [
    "filenames = os.listdir(base_path + '/1A2')"
   ]
  },
  {
   "cell_type": "code",
   "execution_count": 7,
   "metadata": {},
   "outputs": [],
   "source": [
    "mols = [Chem.SDMolSupplier(base_path + '/1A2' + '/' + filename)[0] for filename in filenames]"
   ]
  },
  {
   "cell_type": "code",
   "execution_count": 11,
   "metadata": {},
   "outputs": [
    {
     "name": "stdout",
     "output_type": "stream",
     "text": [
      "all atom num is 5242, som num is 617, som persent is 11.770316673025564%\n"
     ]
    }
   ],
   "source": [
    "all_atom = 0\n",
    "som = 0\n",
    "for mol in mols:\n",
    "    result = []\n",
    "    for key in other_keys:\n",
    "        try:\n",
    "            _res = mol.GetProp(key)\n",
    "            if ' ' in _res:\n",
    "                for s in _res.split():\n",
    "                    result.append(int(s))\n",
    "            else:\n",
    "                result.append(int(_res))\n",
    "        except:\n",
    "            pass\n",
    "    result = list(set(result))\n",
    "    som += len(result)\n",
    "    all_atom += len(mol.GetAtoms())\n",
    "print(f'all atom num is {all_atom}, som num is {som}, som persent is {(som / all_atom) * 100}%')"
   ]
  },
  {
   "cell_type": "markdown",
   "metadata": {},
   "source": [
    "# 2A6"
   ]
  },
  {
   "cell_type": "code",
   "execution_count": 12,
   "metadata": {},
   "outputs": [
    {
     "name": "stdout",
     "output_type": "stream",
     "text": [
      "all atom num is 1630, som num is 200, som persent is 12.269938650306749%\n"
     ]
    }
   ],
   "source": [
    "filenames = os.listdir(base_path + '/2A6')\n",
    "mols = [Chem.SDMolSupplier(base_path + '/2A6' + '/' + filename)[0] for filename in filenames]\n",
    "all_atom = 0\n",
    "som = 0\n",
    "for mol in mols:\n",
    "    result = []\n",
    "    for key in other_keys:\n",
    "        try:\n",
    "            _res = mol.GetProp(key)\n",
    "            if ' ' in _res:\n",
    "                for s in _res.split():\n",
    "                    result.append(int(s))\n",
    "            else:\n",
    "                result.append(int(_res))\n",
    "        except:\n",
    "            pass\n",
    "    result = list(set(result))\n",
    "    som += len(result)\n",
    "    all_atom += len(mol.GetAtoms())\n",
    "print(f'all atom num is {all_atom}, som num is {som}, som persent is {(som / all_atom) * 100}%')"
   ]
  },
  {
   "cell_type": "markdown",
   "metadata": {},
   "source": [
    "# 2B6"
   ]
  },
  {
   "cell_type": "code",
   "execution_count": 13,
   "metadata": {},
   "outputs": [
    {
     "name": "stdout",
     "output_type": "stream",
     "text": [
      "all atom num is 2810, som num is 294, som persent is 10.462633451957295%\n"
     ]
    }
   ],
   "source": [
    "filenames = os.listdir(base_path + '/2B6')\n",
    "mols = [Chem.SDMolSupplier(base_path + '/2B6' + '/' + filename)[0] for filename in filenames]\n",
    "all_atom = 0\n",
    "som = 0\n",
    "for mol in mols:\n",
    "    result = []\n",
    "    for key in other_keys:\n",
    "        try:\n",
    "            _res = mol.GetProp(key)\n",
    "            if ' ' in _res:\n",
    "                for s in _res.split():\n",
    "                    result.append(int(s))\n",
    "            else:\n",
    "                result.append(int(_res))\n",
    "        except:\n",
    "            pass\n",
    "    result = list(set(result))\n",
    "    som += len(result)\n",
    "    all_atom += len(mol.GetAtoms())\n",
    "print(f'all atom num is {all_atom}, som num is {som}, som persent is {(som / all_atom) * 100}%')"
   ]
  },
  {
   "cell_type": "markdown",
   "metadata": {},
   "source": [
    "# 2C8"
   ]
  },
  {
   "cell_type": "code",
   "execution_count": 14,
   "metadata": {},
   "outputs": [
    {
     "name": "stdout",
     "output_type": "stream",
     "text": [
      "all atom num is 3084, som num is 305, som persent is 9.889753566796369%\n"
     ]
    }
   ],
   "source": [
    "filenames = os.listdir(base_path + '/2C8')\n",
    "mols = [Chem.SDMolSupplier(base_path + '/2C8' + '/' + filename)[0] for filename in filenames]\n",
    "all_atom = 0\n",
    "som = 0\n",
    "for mol in mols:\n",
    "    result = []\n",
    "    for key in other_keys:\n",
    "        try:\n",
    "            _res = mol.GetProp(key)\n",
    "            if ' ' in _res:\n",
    "                for s in _res.split():\n",
    "                    result.append(int(s))\n",
    "            else:\n",
    "                result.append(int(_res))\n",
    "        except:\n",
    "            pass\n",
    "    result = list(set(result))\n",
    "    som += len(result)\n",
    "    all_atom += len(mol.GetAtoms())\n",
    "print(f'all atom num is {all_atom}, som num is {som}, som persent is {(som / all_atom) * 100}%')"
   ]
  },
  {
   "cell_type": "markdown",
   "metadata": {},
   "source": [
    "# 2C9"
   ]
  },
  {
   "cell_type": "code",
   "execution_count": 15,
   "metadata": {},
   "outputs": [
    {
     "name": "stdout",
     "output_type": "stream",
     "text": [
      "all atom num is 4730, som num is 461, som persent is 9.746300211416491%\n"
     ]
    }
   ],
   "source": [
    "filenames = os.listdir(base_path + '/2C9')\n",
    "mols = [Chem.SDMolSupplier(base_path + '/2C9' + '/' + filename)[0] for filename in filenames]\n",
    "all_atom = 0\n",
    "som = 0\n",
    "for mol in mols:\n",
    "    result = []\n",
    "    for key in other_keys:\n",
    "        try:\n",
    "            _res = mol.GetProp(key)\n",
    "            if ' ' in _res:\n",
    "                for s in _res.split():\n",
    "                    result.append(int(s))\n",
    "            else:\n",
    "                result.append(int(_res))\n",
    "        except:\n",
    "            pass\n",
    "    result = list(set(result))\n",
    "    som += len(result)\n",
    "    all_atom += len(mol.GetAtoms())\n",
    "print(f'all atom num is {all_atom}, som num is {som}, som persent is {(som / all_atom) * 100}%')"
   ]
  },
  {
   "cell_type": "markdown",
   "metadata": {},
   "source": [
    "# 2C19"
   ]
  },
  {
   "cell_type": "code",
   "execution_count": 16,
   "metadata": {},
   "outputs": [
    {
     "name": "stdout",
     "output_type": "stream",
     "text": [
      "all atom num is 4500, som num is 402, som persent is 8.933333333333334%\n"
     ]
    }
   ],
   "source": [
    "filenames = os.listdir(base_path + '/2C19')\n",
    "mols = [Chem.SDMolSupplier(base_path + '/2C19' + '/' + filename)[0] for filename in filenames]\n",
    "all_atom = 0\n",
    "som = 0\n",
    "for mol in mols:\n",
    "    result = []\n",
    "    for key in other_keys:\n",
    "        try:\n",
    "            _res = mol.GetProp(key)\n",
    "            if ' ' in _res:\n",
    "                for s in _res.split():\n",
    "                    result.append(int(s))\n",
    "            else:\n",
    "                result.append(int(_res))\n",
    "        except:\n",
    "            pass\n",
    "    result = list(set(result))\n",
    "    som += len(result)\n",
    "    all_atom += len(mol.GetAtoms())\n",
    "print(f'all atom num is {all_atom}, som num is {som}, som persent is {(som / all_atom) * 100}%')"
   ]
  },
  {
   "cell_type": "markdown",
   "metadata": {},
   "source": [
    "# 2D6"
   ]
  },
  {
   "cell_type": "code",
   "execution_count": 17,
   "metadata": {},
   "outputs": [
    {
     "name": "stdout",
     "output_type": "stream",
     "text": [
      "all atom num is 5604, som num is 501, som persent is 8.940042826552462%\n"
     ]
    }
   ],
   "source": [
    "filenames = os.listdir(base_path + '/2D6')\n",
    "mols = [Chem.SDMolSupplier(base_path + '/2D6' + '/' + filename)[0] for filename in filenames]\n",
    "all_atom = 0\n",
    "som = 0\n",
    "for mol in mols:\n",
    "    result = []\n",
    "    for key in other_keys:\n",
    "        try:\n",
    "            _res = mol.GetProp(key)\n",
    "            if ' ' in _res:\n",
    "                for s in _res.split():\n",
    "                    result.append(int(s))\n",
    "            else:\n",
    "                result.append(int(_res))\n",
    "        except:\n",
    "            pass\n",
    "    result = list(set(result))\n",
    "    som += len(result)\n",
    "    all_atom += len(mol.GetAtoms())\n",
    "print(f'all atom num is {all_atom}, som num is {som}, som persent is {(som / all_atom) * 100}%')"
   ]
  },
  {
   "cell_type": "markdown",
   "metadata": {},
   "source": [
    "# 2E1"
   ]
  },
  {
   "cell_type": "code",
   "execution_count": 18,
   "metadata": {},
   "outputs": [
    {
     "name": "stdout",
     "output_type": "stream",
     "text": [
      "all atom num is 2181, som num is 301, som persent is 13.801008711600183%\n"
     ]
    }
   ],
   "source": [
    "filenames = os.listdir(base_path + '/2E1')\n",
    "mols = [Chem.SDMolSupplier(base_path + '/2E1' + '/' + filename)[0] for filename in filenames]\n",
    "all_atom = 0\n",
    "som = 0\n",
    "for mol in mols:\n",
    "    result = []\n",
    "    for key in other_keys:\n",
    "        try:\n",
    "            _res = mol.GetProp(key)\n",
    "            if ' ' in _res:\n",
    "                for s in _res.split():\n",
    "                    result.append(int(s))\n",
    "            else:\n",
    "                result.append(int(_res))\n",
    "        except:\n",
    "            pass\n",
    "    result = list(set(result))\n",
    "    som += len(result)\n",
    "    all_atom += len(mol.GetAtoms())\n",
    "print(f'all atom num is {all_atom}, som num is {som}, som persent is {(som / all_atom) * 100}%')"
   ]
  },
  {
   "cell_type": "markdown",
   "metadata": {},
   "source": [
    "# 3A4"
   ]
  },
  {
   "cell_type": "code",
   "execution_count": 19,
   "metadata": {},
   "outputs": [
    {
     "name": "stdout",
     "output_type": "stream",
     "text": [
      "all atom num is 11405, som num is 1050, som persent is 9.206488382288471%\n"
     ]
    }
   ],
   "source": [
    "filenames = os.listdir(base_path + '/3A4')\n",
    "mols = [Chem.SDMolSupplier(base_path + '/3A4' + '/' + filename)[0] for filename in filenames]\n",
    "all_atom = 0\n",
    "som = 0\n",
    "for mol in mols:\n",
    "    result = []\n",
    "    for key in other_keys:\n",
    "        try:\n",
    "            _res = mol.GetProp(key)\n",
    "            if ' ' in _res:\n",
    "                for s in _res.split():\n",
    "                    result.append(int(s))\n",
    "            else:\n",
    "                result.append(int(_res))\n",
    "        except:\n",
    "            pass\n",
    "    result = list(set(result))\n",
    "    som += len(result)\n",
    "    all_atom += len(mol.GetAtoms())\n",
    "print(f'all atom num is {all_atom}, som num is {som}, som persent is {(som / all_atom) * 100}%')"
   ]
  },
  {
   "cell_type": "markdown",
   "metadata": {},
   "source": [
    "# merged"
   ]
  },
  {
   "cell_type": "code",
   "execution_count": 6,
   "metadata": {},
   "outputs": [
    {
     "name": "stdout",
     "output_type": "stream",
     "text": [
      "all atom num is 14809, som num is 1648, som persent is 11.128367884394624%\n"
     ]
    }
   ],
   "source": [
    "filenames = os.listdir(base_path + '/merged')\n",
    "mols = [Chem.SDMolSupplier(base_path + '/merged' + '/' + filename)[0] for filename in filenames]\n",
    "all_atom = 0\n",
    "som = 0\n",
    "for mol in mols:\n",
    "    result = []\n",
    "    for key in for_merge:\n",
    "        try:\n",
    "            _res = mol.GetProp(key)\n",
    "            if ' ' in _res:\n",
    "                for s in _res.split():\n",
    "                    result.append(int(s))\n",
    "            else:\n",
    "                result.append(int(_res))\n",
    "        except:\n",
    "            pass\n",
    "    result = list(set(result))\n",
    "    som += len(result)\n",
    "    all_atom += len(mol.GetAtoms())\n",
    "print(f'all atom num is {all_atom}, som num is {som}, som persent is {(som / all_atom) * 100}%')"
   ]
  },
  {
   "cell_type": "code",
   "execution_count": null,
   "metadata": {},
   "outputs": [],
   "source": []
  }
 ],
 "metadata": {
  "interpreter": {
   "hash": "85f3b94b6725d95f3aa03f98d1d6be5b3740fb34ffa558e9ff5c33f7cd187084"
  },
  "kernelspec": {
   "display_name": "Python 3.8.12 ('bioinfo')",
   "language": "python",
   "name": "python3"
  },
  "language_info": {
   "codemirror_mode": {
    "name": "ipython",
    "version": 3
   },
   "file_extension": ".py",
   "mimetype": "text/x-python",
   "name": "python",
   "nbconvert_exporter": "python",
   "pygments_lexer": "ipython3",
   "version": "3.8.12"
  },
  "orig_nbformat": 4
 },
 "nbformat": 4,
 "nbformat_minor": 2
}
