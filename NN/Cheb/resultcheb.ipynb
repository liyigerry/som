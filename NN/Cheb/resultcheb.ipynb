{
 "cells": [
  {
   "cell_type": "code",
   "execution_count": 1,
   "metadata": {},
   "outputs": [],
   "source": [
    "import pickle\n",
    "def scores(filepath):\n",
    "    results = pickle.load(open(filepath, 'rb'))\n",
    "    test_top2 = []\n",
    "    test_MCC = []\n",
    "    test_auc = []\n",
    "    for result in results:\n",
    "        for dic in result:\n",
    "            test_top2.extend(dic['test_top2'])\n",
    "            test_MCC.extend(dic['test_mcc'])\n",
    "            test_auc.extend(dic['test_auc'])\n",
    "    total = 0\n",
    "    for i in range(25):\n",
    "        total += test_top2[i]\n",
    "    print(f'Top 2 Acc: {total / 25}')\n",
    "    total = 0\n",
    "    for i in range(25):\n",
    "        total += test_auc[i]\n",
    "    print(f'Ave AUC: {total / 25}')\n",
    "    total = 0\n",
    "    for i in range(25):\n",
    "        total += test_MCC[i]\n",
    "    print(f'Ave MCC: {total / 25}')"
   ]
  },
  {
   "cell_type": "code",
   "execution_count": 2,
   "metadata": {},
   "outputs": [
    {
     "name": "stdout",
     "output_type": "stream",
     "text": [
      "Top 2 Acc: 0.8226470588235294\n",
      "Ave AUC: 0.8784346750404413\n",
      "Ave MCC: 0.5078172035642337\n"
     ]
    }
   ],
   "source": [
    "scores('./all_records.pkl')"
   ]
  },
  {
   "cell_type": "code",
   "execution_count": 2,
   "metadata": {},
   "outputs": [
    {
     "name": "stdout",
     "output_type": "stream",
     "text": [
      "Top 2 Acc: 0.791764705882353\n",
      "Ave AUC: 0.8671124433025661\n",
      "Ave MCC: 0.45796600101248286\n"
     ]
    }
   ],
   "source": [
    "# k=3 取得了目前最优的效果，试试k=2\n",
    "scores('./all_records2.pkl')"
   ]
  },
  {
   "cell_type": "markdown",
   "metadata": {},
   "source": [
    "# base"
   ]
  },
  {
   "cell_type": "code",
   "execution_count": 2,
   "metadata": {},
   "outputs": [
    {
     "name": "stdout",
     "output_type": "stream",
     "text": [
      "Top 2 Acc: 0.755\n",
      "Ave AUC: 0.8378469460039543\n",
      "Ave MCC: 0.4243395776884437\n"
     ]
    }
   ],
   "source": [
    "scores('./all_records_base.pkl')"
   ]
  },
  {
   "cell_type": "code",
   "execution_count": 2,
   "metadata": {},
   "outputs": [
    {
     "name": "stdout",
     "output_type": "stream",
     "text": [
      "Top 2 Acc: 0.5599999999999999\n",
      "Ave AUC: 0.7424612856436184\n",
      "Ave MCC: 0.2563648328051048\n"
     ]
    }
   ],
   "source": [
    "# cdk\n",
    "scores('./all_records_cdk.pkl')"
   ]
  },
  {
   "cell_type": "code",
   "execution_count": 2,
   "metadata": {},
   "outputs": [
    {
     "name": "stdout",
     "output_type": "stream",
     "text": [
      "Top 2 Acc: 0.7844117647058824\n",
      "Ave AUC: 0.8661525676404354\n",
      "Ave MCC: 0.4477821959292348\n"
     ]
    }
   ],
   "source": [
    "scores('./all_records_time.pkl')"
   ]
  },
  {
   "cell_type": "code",
   "execution_count": 2,
   "metadata": {},
   "outputs": [
    {
     "name": "stdout",
     "output_type": "stream",
     "text": [
      "Top 2 Acc: 0.8223529411764704\n",
      "Ave AUC: 0.8779976528055318\n",
      "Ave MCC: 0.506319600736412\n"
     ]
    }
   ],
   "source": [
    "scores('./new_all_records_rdkit.pkl')"
   ]
  },
  {
   "cell_type": "code",
   "execution_count": null,
   "metadata": {},
   "outputs": [],
   "source": []
  }
 ],
 "metadata": {
  "interpreter": {
   "hash": "ae2bdcb5ffd42edc58b1d6fb8428ae1d2700e79a4fc0c0139ea5d98047639f54"
  },
  "kernelspec": {
   "display_name": "Python 3.8.11 ('pytorch')",
   "language": "python",
   "name": "python3"
  },
  "language_info": {
   "codemirror_mode": {
    "name": "ipython",
    "version": 3
   },
   "file_extension": ".py",
   "mimetype": "text/x-python",
   "name": "python",
   "nbconvert_exporter": "python",
   "pygments_lexer": "ipython3",
   "version": "3.8.11"
  },
  "orig_nbformat": 4
 },
 "nbformat": 4,
 "nbformat_minor": 2
}
