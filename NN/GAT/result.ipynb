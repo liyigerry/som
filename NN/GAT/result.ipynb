{
 "cells": [
  {
   "cell_type": "code",
   "execution_count": 1,
   "metadata": {},
   "outputs": [],
   "source": [
    "import pickle\n",
    "def scores(filepath):\n",
    "    results = pickle.load(open(filepath, 'rb'))\n",
    "    test_top2 = []\n",
    "    test_MCC = []\n",
    "    test_auc = []\n",
    "    for result in results:\n",
    "        for dic in result:\n",
    "            test_top2.extend(dic['test_top2'])\n",
    "            test_MCC.extend(dic['test_mcc'])\n",
    "            test_auc.extend(dic['test_auc'])\n",
    "    total = 0\n",
    "    for i in range(25):\n",
    "        total += test_top2[i]\n",
    "    print(f'Top 2 Acc: {total / 25}')\n",
    "    total = 0\n",
    "    for i in range(25):\n",
    "        total += test_auc[i]\n",
    "    print(f'Ave AUC: {total / 25}')\n",
    "    total = 0\n",
    "    for i in range(25):\n",
    "        total += test_MCC[i]\n",
    "    print(f'Ave MCC: {total / 25}')"
   ]
  },
  {
   "cell_type": "code",
   "execution_count": 3,
   "metadata": {},
   "outputs": [
    {
     "name": "stdout",
     "output_type": "stream",
     "text": [
      "Top 2 Acc: 0.7270588235294118\n",
      "Ave AUC: 0.8279857265201255\n",
      "Ave MCC: 0.3949761656865403\n"
     ]
    }
   ],
   "source": [
    "scores('./all_records.pkl')\n",
    "# 这是3头注意力"
   ]
  },
  {
   "cell_type": "code",
   "execution_count": 5,
   "metadata": {},
   "outputs": [
    {
     "name": "stdout",
     "output_type": "stream",
     "text": [
      "Top 2 Acc: 0.7167647058823531\n",
      "Ave AUC: 0.8221750880197924\n",
      "Ave MCC: 0.3834982025620169\n"
     ]
    }
   ],
   "source": [
    "scores('./all_records2.pkl')\n",
    "# 2 head"
   ]
  },
  {
   "cell_type": "code",
   "execution_count": 2,
   "metadata": {},
   "outputs": [
    {
     "name": "stdout",
     "output_type": "stream",
     "text": [
      "Top 2 Acc: 0.7344117647058824\n",
      "Ave AUC: 0.8298135989257885\n",
      "Ave MCC: 0.4061517582470255\n"
     ]
    }
   ],
   "source": [
    "scores('./all_records4.pkl')"
   ]
  },
  {
   "cell_type": "code",
   "execution_count": 2,
   "metadata": {},
   "outputs": [
    {
     "name": "stdout",
     "output_type": "stream",
     "text": [
      "Top 2 Acc: 0.7473529411764706\n",
      "Ave AUC: 0.8314786479314026\n",
      "Ave MCC: 0.4108923318321694\n"
     ]
    }
   ],
   "source": [
    "scores('./all_records8.pkl')"
   ]
  },
  {
   "cell_type": "code",
   "execution_count": 2,
   "metadata": {},
   "outputs": [
    {
     "name": "stdout",
     "output_type": "stream",
     "text": [
      "Top 2 Acc: 0.7532352941176471\n",
      "Ave AUC: 0.8406526257916497\n",
      "Ave MCC: 0.4387994291755188\n"
     ]
    }
   ],
   "source": [
    "scores('./all_records48.pkl')"
   ]
  },
  {
   "cell_type": "markdown",
   "metadata": {},
   "source": [
    "# base"
   ]
  },
  {
   "cell_type": "code",
   "execution_count": 2,
   "metadata": {},
   "outputs": [
    {
     "name": "stdout",
     "output_type": "stream",
     "text": [
      "Top 2 Acc: 0.5455882352941175\n",
      "Ave AUC: 0.7254321269599602\n",
      "Ave MCC: 0.2671487711905974\n"
     ]
    }
   ],
   "source": [
    "scores('./all_records_base.pkl')"
   ]
  },
  {
   "cell_type": "code",
   "execution_count": 3,
   "metadata": {},
   "outputs": [
    {
     "name": "stdout",
     "output_type": "stream",
     "text": [
      "Top 2 Acc: 0.5241176470588234\n",
      "Ave AUC: 0.7319373946726363\n",
      "Ave MCC: 0.2316779104754073\n"
     ]
    }
   ],
   "source": [
    "# cdk\n",
    "scores('./all_records_cdk.pkl')"
   ]
  },
  {
   "cell_type": "code",
   "execution_count": 2,
   "metadata": {},
   "outputs": [
    {
     "name": "stdout",
     "output_type": "stream",
     "text": [
      "Top 2 Acc: 0.7367647058823528\n",
      "Ave AUC: 0.8302412112369292\n",
      "Ave MCC: 0.4040131315779356\n"
     ]
    }
   ],
   "source": [
    "scores('./all_records_time.pkl')"
   ]
  },
  {
   "cell_type": "code",
   "execution_count": 2,
   "metadata": {},
   "outputs": [
    {
     "name": "stdout",
     "output_type": "stream",
     "text": [
      "Top 2 Acc: 0.5417647058823528\n",
      "Ave AUC: 0.7249327372118956\n",
      "Ave MCC: 0.24537635554951762\n"
     ]
    }
   ],
   "source": [
    "scores('./new_all_records_cdk.pkl')"
   ]
  },
  {
   "cell_type": "code",
   "execution_count": 3,
   "metadata": {},
   "outputs": [
    {
     "name": "stdout",
     "output_type": "stream",
     "text": [
      "Top 2 Acc: 0.6073529411764705\n",
      "Ave AUC: 0.759497340903564\n",
      "Ave MCC: 0.3235957658320677\n"
     ]
    }
   ],
   "source": [
    "scores('./new_all_records_identity.pkl')"
   ]
  },
  {
   "cell_type": "code",
   "execution_count": null,
   "metadata": {},
   "outputs": [],
   "source": []
  }
 ],
 "metadata": {
  "interpreter": {
   "hash": "ae2bdcb5ffd42edc58b1d6fb8428ae1d2700e79a4fc0c0139ea5d98047639f54"
  },
  "kernelspec": {
   "display_name": "Python 3.8.11 ('pytorch')",
   "language": "python",
   "name": "python3"
  },
  "language_info": {
   "codemirror_mode": {
    "name": "ipython",
    "version": 3
   },
   "file_extension": ".py",
   "mimetype": "text/x-python",
   "name": "python",
   "nbconvert_exporter": "python",
   "pygments_lexer": "ipython3",
   "version": "3.8.11"
  },
  "orig_nbformat": 4
 },
 "nbformat": 4,
 "nbformat_minor": 2
}
